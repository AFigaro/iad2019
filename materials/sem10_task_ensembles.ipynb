{
 "cells": [
  {
   "cell_type": "markdown",
   "metadata": {},
   "source": [
    "### Семинар по случайным лесам и бустингу"
   ]
  },
  {
   "cell_type": "code",
   "execution_count": null,
   "metadata": {
    "collapsed": true
   },
   "outputs": [],
   "source": [
    "import pandas as pd\n",
    "import numpy as np\n",
    "from matplotlib import pyplot as plt\n",
    "%matplotlib inline\n",
    "from sklearn.datasets import load_boston"
   ]
  },
  {
   "cell_type": "markdown",
   "metadata": {},
   "source": [
    "Мы будем работать с датасетом Бостон - это стандартный набор данных, в которм нужно предсказать стоимость жилья по различным характеристикам. Загрузка данных:"
   ]
  },
  {
   "cell_type": "code",
   "execution_count": null,
   "metadata": {
    "collapsed": true
   },
   "outputs": [],
   "source": [
    "boston = load_boston()"
   ]
  },
  {
   "cell_type": "code",
   "execution_count": null,
   "metadata": {},
   "outputs": [],
   "source": [
    "boston.keys()"
   ]
  },
  {
   "cell_type": "code",
   "execution_count": null,
   "metadata": {},
   "outputs": [],
   "source": [
    "print(boston[\"DESCR\"])"
   ]
  },
  {
   "cell_type": "markdown",
   "metadata": {},
   "source": [
    "Выделим обучающую выборку:"
   ]
  },
  {
   "cell_type": "code",
   "execution_count": null,
   "metadata": {
    "collapsed": true
   },
   "outputs": [],
   "source": [
    "X = boston[\"data\"]\n",
    "y = boston[\"target\"]"
   ]
  },
  {
   "cell_type": "markdown",
   "metadata": {},
   "source": [
    "Разделим выборку на обучение и контроль в пропорции 7:3."
   ]
  },
  {
   "cell_type": "code",
   "execution_count": null,
   "metadata": {
    "collapsed": true
   },
   "outputs": [],
   "source": [
    "from sklearn.model_selection import train_test_split"
   ]
  },
  {
   "cell_type": "code",
   "execution_count": null,
   "metadata": {
    "collapsed": true
   },
   "outputs": [],
   "source": [
    "X_tr, X_te, y_tr, y_te = train_test_split(X, y,\n",
    "                                         random_state=0)"
   ]
  },
  {
   "cell_type": "code",
   "execution_count": null,
   "metadata": {},
   "outputs": [],
   "source": [
    "X_tr.shape, X_te.shape"
   ]
  },
  {
   "cell_type": "markdown",
   "metadata": {},
   "source": [
    "### Задание 1.\n",
    "Реализуйте бэггинг над решающими деревьями.\n",
    "\n",
    "Для этого:\n",
    "* В инициализации класса: запомните число деревьев\n",
    "* При обучении: запустите цикл по числу деревьев. При обучении каждого дерева вы генерируете множество индексов с повторениями, выделяете соответствующую выборку из обучения и на ней обучаете дерево. Все деревья сохраняете в список деревьев.\n",
    "* При предсказании: усредните предсказания отдельных деревьев, сохраненных во внутреннем списке.\n",
    "\n",
    "_Внимание._ При обучении бэггинга нужно использовать максимально сложные и глубокие деревья, чтобы их предсказания были различны и хорошо работали в композиции."
   ]
  },
  {
   "cell_type": "code",
   "execution_count": null,
   "metadata": {
    "collapsed": true
   },
   "outputs": [],
   "source": [
    "from sklearn.tree import DecisionTreeRegressor\n",
    "from sklearn.metrics import mean_squared_error, mean_absolute_error"
   ]
  },
  {
   "cell_type": "code",
   "execution_count": null,
   "metadata": {
    "collapsed": true
   },
   "outputs": [],
   "source": [
    "class MyBagging:\n",
    "    \n",
    "    def __init__(self, num_estimators):\n",
    "        self.n = num_estimators\n",
    "        \n",
    "    def fit(self, X, y):\n",
    "        ### your code here\n",
    "    \n",
    "    def predict(self, X):\n",
    "        ### your code here"
   ]
  },
  {
   "cell_type": "markdown",
   "metadata": {},
   "source": [
    "Протестируем бэггинг:"
   ]
  },
  {
   "cell_type": "code",
   "execution_count": null,
   "metadata": {},
   "outputs": [],
   "source": [
    "mybag = MyBagging(100)\n",
    "mybag.fit(X_tr, y_tr)\n",
    "mean_squared_error(y_te, mybag.predict(X_te))"
   ]
  },
  {
   "cell_type": "markdown",
   "metadata": {},
   "source": [
    "Постройте график MAE в зависимости от числа деревьев:"
   ]
  },
  {
   "cell_type": "code",
   "execution_count": null,
   "metadata": {
    "collapsed": true
   },
   "outputs": [],
   "source": [
    "accs = ...\n",
    "### your code here"
   ]
  },
  {
   "cell_type": "code",
   "execution_count": null,
   "metadata": {},
   "outputs": [],
   "source": [
    "plt.plot(accs)\n",
    "plt.title(u\"Зависимость MAE от количества деревьев\")\n",
    "plt.xlabel(u\"Количество деревьев\")\n",
    "plt.ylabel(u\"MSE\")\n",
    "plt.show()"
   ]
  },
  {
   "cell_type": "markdown",
   "metadata": {
    "collapsed": true
   },
   "source": [
    "График должен приблизительно идти вниз с ростом числа деревьев и в конце выйти на постоянное качество."
   ]
  },
  {
   "cell_type": "markdown",
   "metadata": {
    "collapsed": true
   },
   "source": [
    "### Задание 2. Бустинг\n",
    "\n",
    "Реализуйте градиентный бустинг над решающими деревьями. Ваша реализация должна поддерживать оптимизацию двух метрик: MAE и MSE (задается в виде гиперпараметра).\n",
    "\n",
    "Для этого:\n",
    "* В инициализации класса: запомните число деревьев и метрику\n",
    "* При обучении: запустите цикл по числу деревьев. Обучите первое дерево и сохраните его в списке деревьев. При обучении каждого дерева вы вычисляете целевой вектор (вектор сдвигов) и обучаете дерево, используя его. Все деревья сохраняете в список деревьев. Мы не будем оптимизировать по весам деревьев, все отдельные алгоритмы будут иметь вес 1 / n, n - число деревьев (хотя в библиотечном градиентном бустинге, конечно же, по веса оптимизируют). \n",
    "* При предсказании: просуммируйте предсказания отдельных деревьев с весами.\n",
    "\n",
    "_Внимание._ При обучении градиентного бустинга нужно использовать неглубокие, недообученные деревья; следующие алгоритмы все равно исправят эти ошибки."
   ]
  },
  {
   "cell_type": "code",
   "execution_count": null,
   "metadata": {
    "collapsed": true
   },
   "outputs": [],
   "source": [
    "class MyBoosting:\n",
    "    \n",
    "    def __init__(self, num_estimators, loss='mse'):\n",
    "        \n",
    "        self.n = num_estimators\n",
    "        self.loss=loss\n",
    "        \n",
    "    def fit(self, X, y):\n",
    "        ### your code here\n",
    "            \n",
    "    def predict(self, X):\n",
    "        ### your code here"
   ]
  },
  {
   "cell_type": "markdown",
   "metadata": {},
   "source": [
    "Протестируем бустинг:"
   ]
  },
  {
   "cell_type": "code",
   "execution_count": null,
   "metadata": {},
   "outputs": [],
   "source": [
    "myboost = MyBoosting(50)\n",
    "myboost.fit(X_tr, y_tr)\n",
    "mean_squared_error(y_te, myboost.predict(X_te))"
   ]
  },
  {
   "cell_type": "markdown",
   "metadata": {},
   "source": [
    "Постройте график MAE и MSE в зависимости от числа деревьев:"
   ]
  },
  {
   "cell_type": "code",
   "execution_count": null,
   "metadata": {
    "collapsed": true
   },
   "outputs": [],
   "source": [
    "accs = ...\n",
    "### your code here"
   ]
  },
  {
   "cell_type": "code",
   "execution_count": null,
   "metadata": {},
   "outputs": [],
   "source": [
    "plt.plot(accs)\n",
    "plt.title(u\"Зависимость MSE от количества деревьев\")\n",
    "plt.xlabel(u\"Количество деревьев\")\n",
    "plt.ylabel(u\"MSE\")\n",
    "plt.show()"
   ]
  },
  {
   "cell_type": "markdown",
   "metadata": {},
   "source": [
    "Для MAE (эта метрика используется и при обучении, и при оценке качества):"
   ]
  },
  {
   "cell_type": "code",
   "execution_count": null,
   "metadata": {},
   "outputs": [],
   "source": [
    "myboost = MyBoosting(50, 'mae')\n",
    "myboost.fit(X_tr, y_tr)\n",
    "mean_squared_error(y_te, myboost.predict(X_te))"
   ]
  },
  {
   "cell_type": "code",
   "execution_count": null,
   "metadata": {
    "collapsed": true
   },
   "outputs": [],
   "source": [
    "accs = ..."
   ]
  },
  {
   "cell_type": "code",
   "execution_count": null,
   "metadata": {},
   "outputs": [],
   "source": [
    "plt.plot(accs)\n",
    "plt.title(u\"Зависимость MAE от количества деревьев (строили на MAE)\")\n",
    "plt.xlabel(u\"Количество деревьев\")\n",
    "plt.ylabel(u\"MAE\")\n",
    "plt.show()"
   ]
  }
 ],
 "metadata": {
  "kernelspec": {
   "display_name": "Python 3",
   "language": "python",
   "name": "python3"
  },
  "language_info": {
   "codemirror_mode": {
    "name": "ipython",
    "version": 3
   },
   "file_extension": ".py",
   "mimetype": "text/x-python",
   "name": "python",
   "nbconvert_exporter": "python",
   "pygments_lexer": "ipython3",
   "version": "3.6.3"
  }
 },
 "nbformat": 4,
 "nbformat_minor": 2
}
