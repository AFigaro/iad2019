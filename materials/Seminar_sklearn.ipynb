{
 "cells": [
  {
   "cell_type": "markdown",
   "metadata": {},
   "source": [
    "# Классы и интерфейс sklearn"
   ]
  },
  {
   "cell_type": "markdown",
   "metadata": {},
   "source": [
    "### Что такое классы\n",
    "\n",
    "Грубо говоря, класс - это набор функций, который может также хранить какие-то внутренние переменные. Применять класс удобно в случаях, когда требуется вызывать последовательность функций. Тогда вместо того, чтобы передавать переменные - результат работы одной функции в другую функцию, эти переменные хранят внутри класса.\n",
    "\n",
    "Создадим класс, который ищет максимум или минимум из чисел, которые будут подавать через функцию add:"
   ]
  },
  {
   "cell_type": "code",
   "execution_count": 84,
   "metadata": {
    "collapsed": true
   },
   "outputs": [],
   "source": [
    "class Optim:\n",
    "    def __init__(self, find_max=True):\n",
    "        if find_max:\n",
    "            self.opt = 10**(-10)\n",
    "        else:\n",
    "            self.opt = 10**(10)\n",
    "        print(\"I am initializing\")\n",
    "        self.find_max = find_max\n",
    "        \n",
    "    def add(self, x):\n",
    "        if self.find_max:\n",
    "            if x > self.opt:\n",
    "                self.opt = x\n",
    "        else:\n",
    "            if x < self.opt:\n",
    "                self.opt = x\n",
    "                \n",
    "    def compute(self):\n",
    "        print(\"Optimumm equals \", self.opt)"
   ]
  },
  {
   "cell_type": "markdown",
   "metadata": {},
   "source": [
    "Чтобы воспользоваться классом, нужно сначала создать переменную этого класса (или объект класса):"
   ]
  },
  {
   "cell_type": "code",
   "execution_count": 94,
   "metadata": {},
   "outputs": [
    {
     "name": "stdout",
     "output_type": "stream",
     "text": [
      "I am initializing\n"
     ]
    }
   ],
   "source": [
    "optim = Optim()"
   ]
  },
  {
   "cell_type": "markdown",
   "metadata": {},
   "source": [
    "Внутри класса хранится переменная opt:"
   ]
  },
  {
   "cell_type": "code",
   "execution_count": 95,
   "metadata": {},
   "outputs": [
    {
     "data": {
      "text/plain": [
       "1e-10"
      ]
     },
     "execution_count": 95,
     "metadata": {},
     "output_type": "execute_result"
    }
   ],
   "source": [
    "optim.opt"
   ]
  },
  {
   "cell_type": "markdown",
   "metadata": {},
   "source": [
    "Теперь можно вызывать функции класса, которые будут обновлять внутренние переменные:"
   ]
  },
  {
   "cell_type": "code",
   "execution_count": 96,
   "metadata": {},
   "outputs": [],
   "source": [
    "optim.add(x=7)"
   ]
  },
  {
   "cell_type": "code",
   "execution_count": 97,
   "metadata": {
    "collapsed": true
   },
   "outputs": [],
   "source": [
    "optim.add(2)"
   ]
  },
  {
   "cell_type": "code",
   "execution_count": 98,
   "metadata": {},
   "outputs": [
    {
     "name": "stdout",
     "output_type": "stream",
     "text": [
      "Optimumm equals  7\n"
     ]
    }
   ],
   "source": [
    "optim.compute()"
   ]
  },
  {
   "cell_type": "markdown",
   "metadata": {},
   "source": [
    "Можно создать другую переменную класса - она не будет никак связана с первой, в частности, у нее будет другое значение opt:"
   ]
  },
  {
   "cell_type": "code",
   "execution_count": 99,
   "metadata": {},
   "outputs": [
    {
     "name": "stdout",
     "output_type": "stream",
     "text": [
      "I am initializing\n"
     ]
    }
   ],
   "source": [
    "optim2 = Optim(find_max=False)"
   ]
  },
  {
   "cell_type": "code",
   "execution_count": 100,
   "metadata": {},
   "outputs": [
    {
     "data": {
      "text/plain": [
       "10000000000"
      ]
     },
     "execution_count": 100,
     "metadata": {},
     "output_type": "execute_result"
    }
   ],
   "source": [
    "optim2.opt"
   ]
  },
  {
   "cell_type": "markdown",
   "metadata": {},
   "source": [
    "При создании объекта класса можно передавать параметры: эти параметры будут немного менять логику работы класса. Например, в нашем случае параметр find_max сообщает классу, нужно искать минимум или максимум. Создавать два отдельных класса под минимум и максимум не имеет смысла, потому что код почти одинаковый, но как-то сообщить классу, что именно он делает, нужно - вот и придумали параметры класса."
   ]
  },
  {
   "cell_type": "markdown",
   "metadata": {},
   "source": [
    "Теперь поговорим вкратце о синтаксисе создания класса:\n",
    "* определение класса начинается строкой class Name:\n",
    "* далее следуют функции класса. у каждой функции первый аргумент всегда называют self - это ссылка на самого себя, чтобы можно было обращаться к внутренним переменным (в нашем примере self.opt). После self следуют любые необходимые пользователю аргументы (в нашем случае - аргумент x функции add). При вызове функции python сам подставит ссылку на объект класса в self, так что пользователю нужно передавать только \"свои\" аргументы (в примерах мы пишем optim.add(2), а self перед 2 не пишем)\n",
    "* выделяется одна служебная функция, именуемая \\__init\\__. Она вызывается при создании объекта класса (когда мы пишем Optim()). В этот момент прозводится инициализация внутренних переменных класса, запоминание параметров и любые другие операции, если они нужны пользователю. В нашем примере необходимо инициализировать переменную self.opt, а также запомнить, будем мы искать минимум или максимум. Также добавлен print, чтобы в примерах было видно, в какой момент вызывается \\__init\\__ "
   ]
  },
  {
   "cell_type": "markdown",
   "metadata": {},
   "source": [
    "### Интерфейс Scikit-Learn\n",
    "\n",
    "Для реализации алгоритмов машинного обучения в sklearn всегда используется один интерфейс - класс с функциями fit(X, y) для обучения модели и predict(X) для возвращения предсказаний. При создании класса можно указывать дополнительные параметры, влияющие на работу алгоритма машинного обучения.\n",
    "\n",
    "Пример с линейной регрессией:\n",
    "* При создании класса нужно запомнить коэффициент регуляризации\n",
    "* Задача функции fit - по выборке X и y найти веса w и сохранить их внутри класса в self.w\n",
    "* Задача функции predict - по весам self.w и X вернуть y:"
   ]
  },
  {
   "cell_type": "code",
   "execution_count": 102,
   "metadata": {},
   "outputs": [],
   "source": [
    "class LinearRegressor:\n",
    "    def __init__(self, reg_coef=None):\n",
    "        self.lambda_ = reg_coef\n",
    "    \n",
    "    def fit(self, X_train, y_train):\n",
    "        self.w = 0 \n",
    "        # тут вместо заглушки 0 надо написать формулу для вычисления весов по X, y и self.lambda_\n",
    "    \n",
    "    def predict(self, X_test):\n",
    "        y_pred = X_test.dot(self.w)\n",
    "        return y_pred"
   ]
  },
  {
   "cell_type": "markdown",
   "metadata": {},
   "source": [
    "Если бы не использовали класс, нам пришлось бы передавать веса w в функцию predict каждый раз, когда мы захотели бы сделать предсказания, это неудобно (особенно если внутренних переменных много). А так веса хранятся внутри класса, и мы можем даже не догадываться об их существовании (если класс писали не мы)\n",
    "\n",
    "Пример импорта классификатора из sklearn:"
   ]
  },
  {
   "cell_type": "code",
   "execution_count": 32,
   "metadata": {
    "collapsed": true
   },
   "outputs": [],
   "source": [
    "from sklearn.dummy import DummyClassifier"
   ]
  },
  {
   "cell_type": "markdown",
   "metadata": {},
   "source": [
    "### Задача - реализовать класс для нормализации данных\n",
    "\n",
    "Предобработка данных в sklearn реализована по похожему шаблону: функция fit(X) запоминает внутренние переменные, а функция transform(X) выполняет преобразование выборки. y здесь не нужен, потому что в нормализации целевые переменные не участвуют (как и почти во всей предобработке данных).\n",
    "\n",
    "Реализуем класс для нормализации данных. Параметров у класса нет, так что функцию \\__init\\__ мы пропускаем. Функция fit считает статистики (по обучающей выборке), а функция tranform вычитает среднее и делит на стандартное отклонение. "
   ]
  },
  {
   "cell_type": "code",
   "execution_count": 40,
   "metadata": {
    "collapsed": true
   },
   "outputs": [],
   "source": [
    "class Normalizer:\n",
    "    def fit(self, X):\n",
    "        self.mu = X.mean(axis=0)\n",
    "        self.sigma = X.std(axis=0)\n",
    "        \n",
    "    def transform(self, X):\n",
    "        return (X - self.mu[np.newaxis, :]) / self.sigma[np.newaxis, :]"
   ]
  },
  {
   "cell_type": "markdown",
   "metadata": {},
   "source": [
    "Создаем случайные данные X и y для тестирования нашего класса:"
   ]
  },
  {
   "cell_type": "code",
   "execution_count": 41,
   "metadata": {
    "collapsed": true
   },
   "outputs": [],
   "source": [
    "import numpy as np"
   ]
  },
  {
   "cell_type": "code",
   "execution_count": 52,
   "metadata": {},
   "outputs": [
    {
     "data": {
      "text/plain": [
       "(20, 4)"
      ]
     },
     "execution_count": 52,
     "metadata": {},
     "output_type": "execute_result"
    }
   ],
   "source": [
    "X_tr = np.random.randint(-5, 5, size=(20, 4))\n",
    "X_tr.shape"
   ]
  },
  {
   "cell_type": "code",
   "execution_count": 54,
   "metadata": {},
   "outputs": [
    {
     "data": {
      "text/plain": [
       "(10, 4)"
      ]
     },
     "execution_count": 54,
     "metadata": {},
     "output_type": "execute_result"
    }
   ],
   "source": [
    "X_te = np.random.randint(-5, 5, size=(10, 4))\n",
    "X_te.shape"
   ]
  },
  {
   "cell_type": "code",
   "execution_count": 57,
   "metadata": {},
   "outputs": [
    {
     "data": {
      "text/plain": [
       "array([[-5,  3, -2,  1],\n",
       "       [ 1,  1, -3, -3],\n",
       "       [ 0, -2,  4,  4],\n",
       "       [ 3, -1, -5,  3],\n",
       "       [ 1, -2,  0,  3],\n",
       "       [-4, -1,  3, -5],\n",
       "       [ 0,  2,  3, -1],\n",
       "       [-3, -2, -2,  1],\n",
       "       [-1, -1,  2, -4],\n",
       "       [ 4,  2,  2,  4],\n",
       "       [ 2,  3,  1,  1],\n",
       "       [-1,  1, -1, -4],\n",
       "       [ 3, -4, -5,  2],\n",
       "       [-3,  2, -5, -2],\n",
       "       [ 0,  1,  0,  3],\n",
       "       [-5, -5, -3, -4],\n",
       "       [-4, -2, -1,  2],\n",
       "       [ 0, -4, -1, -4],\n",
       "       [ 1,  4,  4, -4],\n",
       "       [ 2,  4, -5, -1]])"
      ]
     },
     "execution_count": 57,
     "metadata": {},
     "output_type": "execute_result"
    }
   ],
   "source": [
    "X_tr"
   ]
  },
  {
   "cell_type": "markdown",
   "metadata": {},
   "source": [
    "Создаем объект класса и трансформируем выборку:"
   ]
  },
  {
   "cell_type": "code",
   "execution_count": 59,
   "metadata": {},
   "outputs": [],
   "source": [
    "normalizer = Normalizer()\n",
    "normalizer.fit(X_tr)\n",
    "X_tr_transformed = normalizer.transform(X_tr)\n",
    "X_te_transformed = normalizer.transform(X_te)"
   ]
  },
  {
   "cell_type": "markdown",
   "metadata": {},
   "source": [
    "Fit нужно вызывать именно на обучающих данных, чтобы ничего не подсмотреть в контрольной выборке. А transform можно вызывать много раз для любых выборок (с уже посчитанным статистиками, которые хранятся внутри класса)."
   ]
  },
  {
   "cell_type": "code",
   "execution_count": 56,
   "metadata": {},
   "outputs": [
    {
     "data": {
      "text/plain": [
       "array([[-1.70190108,  1.14890018, -0.43551639,  0.45809399],\n",
       "       [ 0.54236408,  0.39552301, -0.77052899, -0.85074599],\n",
       "       [ 0.16831989, -0.73454274,  1.57455924,  1.43972398],\n",
       "       [ 1.29045247, -0.35785415, -1.4405542 ,  1.11251398],\n",
       "       [ 0.54236408, -0.73454274,  0.23450882,  1.11251398],\n",
       "       [-1.32785689, -0.35785415,  1.23954664, -1.50516598],\n",
       "       [ 0.16831989,  0.7722116 ,  1.23954664, -0.196326  ],\n",
       "       [-0.95381269, -0.73454274, -0.43551639,  0.45809399],\n",
       "       [-0.20572431, -0.35785415,  0.90453403, -1.17795598],\n",
       "       [ 1.66449666,  0.7722116 ,  0.90453403,  1.43972398],\n",
       "       [ 0.91640828,  1.14890018,  0.56952143,  0.45809399],\n",
       "       [-0.20572431,  0.39552301, -0.10050378, -1.17795598],\n",
       "       [ 1.29045247, -1.4879199 , -1.4405542 ,  0.78530399],\n",
       "       [-0.95381269,  0.7722116 , -1.4405542 , -0.52353599],\n",
       "       [ 0.16831989,  0.39552301,  0.23450882,  1.11251398],\n",
       "       [-1.70190108, -1.86460849, -0.77052899, -1.17795598],\n",
       "       [-1.32785689, -0.73454274, -0.10050378,  0.78530399],\n",
       "       [ 0.16831989, -1.4879199 , -0.10050378, -1.17795598],\n",
       "       [ 0.54236408,  1.52558876,  1.57455924, -1.17795598],\n",
       "       [ 0.91640828,  1.52558876, -1.4405542 , -0.196326  ]])"
      ]
     },
     "execution_count": 56,
     "metadata": {},
     "output_type": "execute_result"
    }
   ],
   "source": [
    "X_tr_transformed"
   ]
  },
  {
   "cell_type": "code",
   "execution_count": null,
   "metadata": {
    "collapsed": true
   },
   "outputs": [],
   "source": []
  }
 ],
 "metadata": {
  "kernelspec": {
   "display_name": "Python 3",
   "language": "python",
   "name": "python3"
  },
  "language_info": {
   "codemirror_mode": {
    "name": "ipython",
    "version": 3
   },
   "file_extension": ".py",
   "mimetype": "text/x-python",
   "name": "python",
   "nbconvert_exporter": "python",
   "pygments_lexer": "ipython3",
   "version": "3.6.3"
  }
 },
 "nbformat": 4,
 "nbformat_minor": 2
}
